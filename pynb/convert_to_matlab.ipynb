{
 "cells": [
  {
   "cell_type": "code",
   "id": "initial_id",
   "metadata": {
    "collapsed": true,
    "ExecuteTime": {
     "end_time": "2024-07-13T04:45:06.437813Z",
     "start_time": "2024-07-13T04:45:05.450333Z"
    }
   },
   "source": "import torch",
   "outputs": [],
   "execution_count": 1
  },
  {
   "metadata": {
    "ExecuteTime": {
     "end_time": "2024-07-13T04:45:07.067661Z",
     "start_time": "2024-07-13T04:45:07.065438Z"
    }
   },
   "cell_type": "code",
   "source": [
    "def convert(model, save_path):\n",
    "    model.eval()\n",
    "    model.to('cpu')\n",
    "    torch.jit.trace(model.forward, torch.rand([1, 3, 224, 224])).save(save_path)  # .pt"
   ],
   "id": "65399f42c91e7beb",
   "outputs": [],
   "execution_count": 2
  },
  {
   "metadata": {
    "ExecuteTime": {
     "end_time": "2024-07-13T04:46:40.493514Z",
     "start_time": "2024-07-13T04:45:59.408542Z"
    }
   },
   "cell_type": "code",
   "source": [
    "from models.net import get_model\n",
    "from constant import IMPLEMENTED_NETS,SUPPORTED_TASKS\n",
    "\n",
    "for arch in IMPLEMENTED_NETS:\n",
    "    for task in SUPPORTED_TASKS.keys():\n",
    "    # for task in ['four-class']:\n",
    "        net = get_model(arch, SUPPORTED_TASKS[task], False)\n",
    "        net.load_state_dict(torch.load(f'/home/zg34/Desktop/DroneClassificationNet/logs/pth_models/{task}/{task}-{arch}.pth'))\n",
    "        convert(net, f'/home/zg34/Desktop/DroneClassificationNet/logs/pt_models/{task}-{arch}.pt')"
   ],
   "id": "498a1137ae4b7947",
   "outputs": [],
   "execution_count": 4
  },
  {
   "metadata": {},
   "cell_type": "code",
   "outputs": [],
   "execution_count": null,
   "source": "",
   "id": "621fc099068b1add"
  }
 ],
 "metadata": {
  "kernelspec": {
   "display_name": "Python 3",
   "language": "python",
   "name": "python3"
  },
  "language_info": {
   "codemirror_mode": {
    "name": "ipython",
    "version": 2
   },
   "file_extension": ".py",
   "mimetype": "text/x-python",
   "name": "python",
   "nbconvert_exporter": "python",
   "pygments_lexer": "ipython2",
   "version": "2.7.6"
  }
 },
 "nbformat": 4,
 "nbformat_minor": 5
}
