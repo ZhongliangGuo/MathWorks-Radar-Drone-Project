{
 "cells": [
  {
   "cell_type": "code",
   "id": "initial_id",
   "metadata": {
    "collapsed": true,
    "ExecuteTime": {
     "end_time": "2024-07-11T22:36:49.590492Z",
     "start_time": "2024-07-11T22:36:49.587653Z"
    }
   },
   "source": "import pandas as pd",
   "outputs": [],
   "execution_count": 14
  },
  {
   "metadata": {
    "ExecuteTime": {
     "end_time": "2024-07-11T22:36:50.172499Z",
     "start_time": "2024-07-11T22:36:50.165138Z"
    }
   },
   "cell_type": "code",
   "source": "df = pd.read_csv('/home/zg34/datasets/drone_project/train_4cls.csv')",
   "id": "3e282083a43e96c7",
   "outputs": [],
   "execution_count": 15
  },
  {
   "metadata": {
    "ExecuteTime": {
     "end_time": "2024-07-11T22:36:50.697320Z",
     "start_time": "2024-07-11T22:36:50.694269Z"
    }
   },
   "cell_type": "code",
   "source": [
    "mapping = {0: 'drone', 1: 'bird', 2: 'cluster', 3: 'noise'}\n",
    "df['four_cls'] = df['four_cls'].map(mapping)"
   ],
   "id": "1a424fea442435af",
   "outputs": [],
   "execution_count": 16
  },
  {
   "metadata": {
    "ExecuteTime": {
     "end_time": "2024-07-11T22:36:51.229891Z",
     "start_time": "2024-07-11T22:36:51.221074Z"
    }
   },
   "cell_type": "code",
   "source": "df.to_csv('train_4cls.csv',index=False)",
   "id": "1aec12196782a6b1",
   "outputs": [],
   "execution_count": 17
  },
  {
   "metadata": {},
   "cell_type": "code",
   "outputs": [],
   "execution_count": null,
   "source": "",
   "id": "fcef18943fa6b303"
  }
 ],
 "metadata": {
  "kernelspec": {
   "display_name": "Python 3",
   "language": "python",
   "name": "python3"
  },
  "language_info": {
   "codemirror_mode": {
    "name": "ipython",
    "version": 2
   },
   "file_extension": ".py",
   "mimetype": "text/x-python",
   "name": "python",
   "nbconvert_exporter": "python",
   "pygments_lexer": "ipython2",
   "version": "2.7.6"
  }
 },
 "nbformat": 4,
 "nbformat_minor": 5
}
