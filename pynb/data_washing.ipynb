{
 "cells": [
  {
   "cell_type": "code",
   "id": "initial_id",
   "metadata": {
    "collapsed": true,
    "ExecuteTime": {
     "end_time": "2024-06-15T16:22:53.815961Z",
     "start_time": "2024-06-15T16:22:53.535328Z"
    }
   },
   "source": [
    "import pandas as pd\n",
    "from os.path import join\n",
    "\n",
    "drone_candidates = [\n",
    "    # 24GHz\n",
    "    '2024-03-01_09-33-03_24GHz',  # DJI Mavic 3\n",
    "    '2024-03-01_09-49-52_24GHz',  # DJI Mini 2\n",
    "    '2024-03-01_10-14-20_24GHz',  # Autel Evo II\n",
    "    '2024-03-01_10-46-33_24GHz',  # Yuneec H520E\n",
    "    '2024-03-01_11-07-57_24GHz',  # DJI Matrice 210\n",
    "    # 94GHz\n",
    "    '2024-03-01_09-33-05_94GHz',  # DJI Mavic 3\n",
    "    '2024-03-01_09-51-34_94GHz',  # DJI Mini 2\n",
    "    '2024-03-01_10-14-24_94GHz',  # Autel Evo II\n",
    "    '2024-03-01_10-46-33_94GHz',  # Yuneec H520E\n",
    "    '2024-03-01_11-07-57_94GHz',  # DJI Matrice 210\n",
    "    # 207GHz\n",
    "    '2024-03-01_09-33-03_207GHz',  # DJI Mavic 3\n",
    "    '2024-03-01_09-49-45_207GHz',  # DJI Mini 2\n",
    "    '2024-03-01_10-14-20_207GHz',  # Autel Evo II\n",
    "    '2024-03-01_10-46-36_207GHz',  # Yuneec H520E\n",
    "    '2024-03-01_12-45-57_207GHz',  # DJI Matrice 210\n",
    "]\n",
    "\n",
    "non_drone_candidates = [\n",
    "    '2024-02-06_11-22-26_24GHz',  # 134\n",
    "    '2024-02-06_12-31-07_24GHz',  # 177\n",
    "    '2024-02-06_11-22-25_94GHz',  # 206\n",
    "    '2024-02-06_12-31-00_94GHz',  # 275\n",
    "    '2024-02-06_11-22-22_207GHz',  # 162\n",
    "    '2024-02-06_12-30-58_207GHz',  # 275\n",
    "]\n",
    "\n",
    "random_seed = 3407\n",
    "label_path = r'/home/zg34/datasets/drone_project/all_label.csv'\n",
    "save_path = r'/home/zg34/datasets/drone_project'\n",
    "all_label = pd.read_csv(label_path)\n",
    "drone = all_label.loc[all_label['drone_1_else_0'] == 1].sample(frac=1, random_state=random_seed).reset_index(drop=True)\n",
    "non_drone = all_label.loc[all_label['drone_1_else_0'] == 0].sample(frac=1, random_state=random_seed).reset_index(\n",
    "    drop=True)"
   ],
   "outputs": [],
   "execution_count": 1
  },
  {
   "metadata": {
    "ExecuteTime": {
     "end_time": "2024-06-15T16:22:56.177697Z",
     "start_time": "2024-06-15T16:22:56.174287Z"
    }
   },
   "cell_type": "code",
   "source": [
    "def subset_file_independent(full_label, candidates):\n",
    "    eval_label_list = []\n",
    "    for candidate in candidates:\n",
    "        folder_name = candidate[:19]\n",
    "        freq = candidate[20:]\n",
    "        mask = (full_label['filename'].str.contains(folder_name)) & (full_label['radar_freq'] == freq)\n",
    "        eval_label_list.append(full_label[mask])\n",
    "    eval_label = pd.concat(eval_label_list, ignore_index=True).reset_index(drop=True)\n",
    "    train_label = pd.merge(full_label, eval_label, how='left', indicator=True)\n",
    "    train_label = train_label[train_label['_merge'] == 'left_only']\n",
    "    train_label = (train_label.drop(columns=['_merge']))\n",
    "    return train_label, eval_label"
   ],
   "id": "d9b044081e3ee9a",
   "outputs": [],
   "execution_count": 2
  },
  {
   "metadata": {
    "ExecuteTime": {
     "end_time": "2024-06-15T16:22:57.223751Z",
     "start_time": "2024-06-15T16:22:57.071277Z"
    }
   },
   "cell_type": "code",
   "source": [
    "drone_train, drone_eval = subset_file_independent(drone, drone_candidates)\n",
    "non_drone_train, non_drone_eval = subset_file_independent(non_drone, non_drone_candidates)"
   ],
   "id": "220ce6128873ba58",
   "outputs": [],
   "execution_count": 3
  },
  {
   "metadata": {
    "ExecuteTime": {
     "end_time": "2024-06-15T16:22:58.519706Z",
     "start_time": "2024-06-15T16:22:58.454050Z"
    }
   },
   "cell_type": "code",
   "source": [
    "num_train = min(len(drone_train), len(non_drone_train))\n",
    "train_drone = drone_train.iloc[:num_train]\n",
    "train_non_drone = non_drone_train.iloc[:num_train]\n",
    "train_label = pd.concat([train_drone, train_non_drone],\n",
    "                        ignore_index=True).sample(frac=1, random_state=random_seed).reset_index(drop=True)\n",
    "eval_label = pd.concat([drone_eval, non_drone_eval],\n",
    "                       ignore_index=True).sample(frac=1, random_state=random_seed).reset_index(drop=True)\n",
    "train_label.to_csv(join(save_path, 'train_label.csv'), index=False)\n",
    "eval_label.to_csv(join(save_path, 'eval_label.csv'), index=False)"
   ],
   "id": "f6a72338c698042",
   "outputs": [],
   "execution_count": 4
  },
  {
   "metadata": {},
   "cell_type": "code",
   "outputs": [],
   "execution_count": null,
   "source": "",
   "id": "e170da1a3b8dde59"
  }
 ],
 "metadata": {
  "kernelspec": {
   "display_name": "Python 3",
   "language": "python",
   "name": "python3"
  },
  "language_info": {
   "codemirror_mode": {
    "name": "ipython",
    "version": 2
   },
   "file_extension": ".py",
   "mimetype": "text/x-python",
   "name": "python",
   "nbconvert_exporter": "python",
   "pygments_lexer": "ipython2",
   "version": "2.7.6"
  }
 },
 "nbformat": 4,
 "nbformat_minor": 5
}
